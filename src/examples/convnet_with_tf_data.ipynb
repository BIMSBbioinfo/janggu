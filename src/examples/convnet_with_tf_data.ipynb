{
 "cells": [
  {
   "cell_type": "markdown",
   "metadata": {},
   "source": [
    "# Janggu integrates with the tensorflow.data pipeline"
   ]
  },
  {
   "cell_type": "markdown",
   "metadata": {},
   "source": [
    "In this notebook we illustrate how to exploit tensorflow.data pipelines with genomics datasets from janggu.\n",
    "\n",
    "We shall use the familiar toy example about distinguishing Oct4 and Mafk binding sites based on the DNA sequence."
   ]
  },
  {
   "cell_type": "code",
   "execution_count": 1,
   "metadata": {},
   "outputs": [],
   "source": [
    "import os\n",
    "\n",
    "import numpy as np\n",
    "import tensorflow as tf\n",
    "from tensorflow.keras import Model\n",
    "from tensorflow.keras import backend as K\n",
    "from tensorflow.keras.layers import Conv2D\n",
    "\n",
    "from tensorflow.keras.layers import Dense\n",
    "from tensorflow.keras.layers import GlobalAveragePooling2D\n",
    "from tensorflow.keras.layers import Input\n",
    "\n",
    "from pkg_resources import resource_filename\n",
    "\n",
    "from janggu.data import Bioseq\n",
    "from janggu.data import Cover\n",
    "from janggu.data import ReduceDim\n",
    "from janggu.layers import DnaConv2D\n",
    "\n",
    "from sklearn.metrics import roc_auc_score"
   ]
  },
  {
   "cell_type": "code",
   "execution_count": 2,
   "metadata": {},
   "outputs": [],
   "source": [
    "from IPython.display import Image\n",
    "\n",
    "np.random.seed(1234)"
   ]
  },
  {
   "cell_type": "markdown",
   "metadata": {},
   "source": [
    "First, we need to specify the output directory in which the results are stored and define the required files:"
   ]
  },
  {
   "cell_type": "code",
   "execution_count": 3,
   "metadata": {},
   "outputs": [],
   "source": [
    "os.environ['JANGGU_OUTPUT'] = '/home/wkopp/janggu_examples'\n",
    "\n",
    "order = 3\n",
    "\n",
    "# load the dataset\n",
    "# The pseudo genome represents just a concatenation of all sequences\n",
    "# in sample.fa and sample2.fa. Therefore, the results should be almost\n",
    "# identically to the models obtained from classify_fasta.py.\n",
    "REFGENOME = resource_filename('janggu', 'resources/pseudo_genome.fa')\n",
    "# ROI contains regions spanning positive and negative examples\n",
    "ROI_TRAIN_FILE = resource_filename('janggu', 'resources/roi_train.bed')\n",
    "ROI_TEST_FILE = resource_filename('janggu', 'resources/roi_test.bed')\n",
    "# PEAK_FILE only contains positive examples\n",
    "PEAK_FILE = resource_filename('janggu', 'resources/scores.bed')"
   ]
  },
  {
   "cell_type": "markdown",
   "metadata": {},
   "source": [
    "Next load the dataset from the files into the Bioseq and Cover objects. We shall load the training and test set separately."
   ]
  },
  {
   "cell_type": "code",
   "execution_count": 4,
   "metadata": {},
   "outputs": [],
   "source": [
    "# Training input and labels are purely defined genomic coordinates\n",
    "DNA = Bioseq.create_from_refgenome('dna', refgenome=REFGENOME,\n",
    "                                   roi=ROI_TRAIN_FILE,\n",
    "                                   binsize=200,\n",
    "                                   order=order,\n",
    "                                   cache=True)\n",
    "\n",
    "\n",
    "LABELS =Cover.create_from_bed('peaks', roi=ROI_TRAIN_FILE,\n",
    "                               bedfiles=PEAK_FILE,\n",
    "                               binsize=200,\n",
    "                               resolution=200,\n",
    "                               cache=True,\n",
    "                               storage='sparse')\n",
    "\n",
    "\n",
    "DNA_TEST = Bioseq.create_from_refgenome('dna', refgenome=REFGENOME,\n",
    "                                        roi=ROI_TEST_FILE,\n",
    "                                        binsize=200,\n",
    "                                        order=order)\n",
    "\n",
    "LABELS_TEST = Cover.create_from_bed('peaks',\n",
    "                                    bedfiles=PEAK_FILE,\n",
    "                                    roi=ROI_TEST_FILE,\n",
    "                                    binsize=200,\n",
    "                                    resolution=200,\n",
    "                                    storage='sparse')\n"
   ]
  },
  {
   "cell_type": "code",
   "execution_count": 5,
   "metadata": {},
   "outputs": [
    {
     "name": "stdout",
     "output_type": "stream",
     "text": [
      "training set: (7797, 198, 1, 64) (7797, 1, 1, 1)\n",
      "test set: (200, 198, 1, 64) (200, 1, 1, 1)\n"
     ]
    }
   ],
   "source": [
    "print('training set:', DNA.shape, LABELS.shape)\n",
    "print('test set:', DNA_TEST.shape, LABELS_TEST.shape)"
   ]
  },
  {
   "cell_type": "markdown",
   "metadata": {},
   "source": [
    "We obtain 7797 training sequences and 200 test sequences, each of length 200 bases. \n",
    "Because we use higher-order sequence representation, the sequence length is shrunken slightly."
   ]
  },
  {
   "cell_type": "markdown",
   "metadata": {},
   "source": [
    "## Prepare training tf.data pipeline"
   ]
  },
  {
   "cell_type": "markdown",
   "metadata": {},
   "source": [
    "Next, we make use the `to_tf_dataset` method that is exposed by the Bioseq and Cover class. \n",
    "This method converts the respective genomic datasets into `tensorflow.data.Dataset` components.\n",
    "Subsequently, one can take advantage of the utilities offered by tensorflow to further convert or reshape the tensors. Additional specialized methods for data augentation in genomics are briefly summarized at the end of this tutorial."
   ]
  },
  {
   "cell_type": "code",
   "execution_count": 6,
   "metadata": {},
   "outputs": [],
   "source": [
    "dna_ds = DNA.to_tf_dataset().map(tf.sparse.to_dense)"
   ]
  },
  {
   "cell_type": "code",
   "execution_count": 7,
   "metadata": {},
   "outputs": [],
   "source": [
    "label_ds = LABELS.to_tf_dataset(as_sparse=False).map(lambda x: tf.reduce_sum(x, axis=(0,1)))"
   ]
  },
  {
   "cell_type": "code",
   "execution_count": 8,
   "metadata": {},
   "outputs": [],
   "source": [
    "ds=tf.data.Dataset.zip((dna_ds, label_ds)).shuffle(buffer_size=10000).batch(32)"
   ]
  },
  {
   "cell_type": "markdown",
   "metadata": {},
   "source": [
    "## Define and fit the network with the data pipeline"
   ]
  },
  {
   "cell_type": "markdown",
   "metadata": {},
   "source": [
    "Specify a keras model with compatible dimesions input and output dimensions for the example."
   ]
  },
  {
   "cell_type": "code",
   "execution_count": 9,
   "metadata": {},
   "outputs": [
    {
     "name": "stdout",
     "output_type": "stream",
     "text": [
      "Model: \"functional_1\"\n",
      "_________________________________________________________________\n",
      "Layer (type)                 Output Shape              Param #   \n",
      "=================================================================\n",
      "input_1 (InputLayer)         [(None, 198, 1, 64)]      0         \n",
      "_________________________________________________________________\n",
      "dna_conv2d (DnaConv2D)       (None, 178, 1, 30)        40350     \n",
      "_________________________________________________________________\n",
      "global_average_pooling2d (Gl (None, 30)                0         \n",
      "_________________________________________________________________\n",
      "dense (Dense)                (None, 1)                 31        \n",
      "=================================================================\n",
      "Total params: 40,381\n",
      "Trainable params: 40,381\n",
      "Non-trainable params: 0\n",
      "_________________________________________________________________\n"
     ]
    }
   ],
   "source": [
    "xin = Input((200 - order + 1, 1, pow(4, order)))\n",
    "layer = DnaConv2D(Conv2D(30, (21, 1),\n",
    "                         activation='relu'))(xin)\n",
    "layer = GlobalAveragePooling2D()(layer)\n",
    "output = Dense(1, activation='sigmoid')(layer)\n",
    "\n",
    "\n",
    "\n",
    "model = Model(xin, output)\n",
    "\n",
    "model.compile(optimizer='adam', loss='binary_crossentropy',\n",
    "              metrics=['acc'])\n",
    "model.summary()\n",
    "\n"
   ]
  },
  {
   "cell_type": "code",
   "execution_count": 10,
   "metadata": {
    "scrolled": false
   },
   "outputs": [
    {
     "name": "stdout",
     "output_type": "stream",
     "text": [
      "Epoch 1/100\n",
      "244/244 [==============================] - 6s 23ms/step - loss: 0.5603 - acc: 0.7285\n",
      "Epoch 2/100\n",
      "244/244 [==============================] - 7s 28ms/step - loss: 0.4683 - acc: 0.7895\n",
      "Epoch 3/100\n",
      "244/244 [==============================] - 6s 24ms/step - loss: 0.4459 - acc: 0.7965\n",
      "Epoch 4/100\n",
      "244/244 [==============================] - 6s 24ms/step - loss: 0.4349 - acc: 0.8018\n",
      "Epoch 5/100\n",
      "244/244 [==============================] - 6s 23ms/step - loss: 0.4303 - acc: 0.8045\n",
      "Epoch 6/100\n",
      "244/244 [==============================] - 5s 20ms/step - loss: 0.4216 - acc: 0.8075\n",
      "Epoch 7/100\n",
      "244/244 [==============================] - 5s 21ms/step - loss: 0.4166 - acc: 0.8133\n",
      "Epoch 8/100\n",
      "244/244 [==============================] - 5s 20ms/step - loss: 0.4088 - acc: 0.8151\n",
      "Epoch 9/100\n",
      "244/244 [==============================] - 5s 19ms/step - loss: 0.4021 - acc: 0.8201\n",
      "Epoch 10/100\n",
      "244/244 [==============================] - 5s 20ms/step - loss: 0.3936 - acc: 0.8258\n",
      "Epoch 11/100\n",
      "244/244 [==============================] - 5s 19ms/step - loss: 0.3861 - acc: 0.8325\n",
      "Epoch 12/100\n",
      "244/244 [==============================] - 5s 20ms/step - loss: 0.3755 - acc: 0.8360\n",
      "Epoch 13/100\n",
      "244/244 [==============================] - 5s 20ms/step - loss: 0.3661 - acc: 0.8460\n",
      "Epoch 14/100\n",
      "244/244 [==============================] - 5s 19ms/step - loss: 0.3529 - acc: 0.8514\n",
      "Epoch 15/100\n",
      "244/244 [==============================] - 5s 20ms/step - loss: 0.3418 - acc: 0.8580\n",
      "Epoch 16/100\n",
      "244/244 [==============================] - 5s 20ms/step - loss: 0.3288 - acc: 0.8649\n",
      "Epoch 17/100\n",
      "244/244 [==============================] - 5s 19ms/step - loss: 0.3165 - acc: 0.8707\n",
      "Epoch 18/100\n",
      "244/244 [==============================] - 5s 19ms/step - loss: 0.3019 - acc: 0.8796\n",
      "Epoch 19/100\n",
      "244/244 [==============================] - 5s 20ms/step - loss: 0.2880 - acc: 0.8857\n",
      "Epoch 20/100\n",
      "244/244 [==============================] - 5s 19ms/step - loss: 0.2741 - acc: 0.8925\n",
      "Epoch 21/100\n",
      "244/244 [==============================] - 5s 21ms/step - loss: 0.2619 - acc: 0.8960\n",
      "Epoch 22/100\n",
      "244/244 [==============================] - 6s 26ms/step - loss: 0.2491 - acc: 0.9042\n",
      "Epoch 23/100\n",
      "244/244 [==============================] - 7s 28ms/step - loss: 0.2380 - acc: 0.9095\n",
      "Epoch 24/100\n",
      "244/244 [==============================] - 7s 27ms/step - loss: 0.2268 - acc: 0.9160\n",
      "Epoch 25/100\n",
      "244/244 [==============================] - 6s 24ms/step - loss: 0.2152 - acc: 0.9206\n",
      "Epoch 26/100\n",
      "244/244 [==============================] - 6s 24ms/step - loss: 0.2078 - acc: 0.9252\n",
      "Epoch 27/100\n",
      "244/244 [==============================] - 6s 23ms/step - loss: 0.1999 - acc: 0.9272\n",
      "Epoch 28/100\n",
      "244/244 [==============================] - 6s 23ms/step - loss: 0.1897 - acc: 0.9325\n",
      "Epoch 29/100\n",
      "244/244 [==============================] - 6s 23ms/step - loss: 0.1805 - acc: 0.9359\n",
      "Epoch 30/100\n",
      "244/244 [==============================] - 6s 23ms/step - loss: 0.1739 - acc: 0.9398\n",
      "Epoch 31/100\n",
      "244/244 [==============================] - 7s 28ms/step - loss: 0.1666 - acc: 0.9411\n",
      "Epoch 32/100\n",
      "244/244 [==============================] - 5s 21ms/step - loss: 0.1591 - acc: 0.9457\n",
      "Epoch 33/100\n",
      "244/244 [==============================] - 6s 24ms/step - loss: 0.1531 - acc: 0.9475\n",
      "Epoch 34/100\n",
      "244/244 [==============================] - 5s 22ms/step - loss: 0.1466 - acc: 0.9511\n",
      "Epoch 35/100\n",
      "244/244 [==============================] - 5s 20ms/step - loss: 0.1415 - acc: 0.9516\n",
      "Epoch 36/100\n",
      "244/244 [==============================] - 5s 19ms/step - loss: 0.1363 - acc: 0.9534\n",
      "Epoch 37/100\n",
      "244/244 [==============================] - 5s 19ms/step - loss: 0.1298 - acc: 0.9569\n",
      "Epoch 38/100\n",
      "244/244 [==============================] - 5s 19ms/step - loss: 0.1267 - acc: 0.9581\n",
      "Epoch 39/100\n",
      "244/244 [==============================] - 5s 20ms/step - loss: 0.1216 - acc: 0.9583\n",
      "Epoch 40/100\n",
      "244/244 [==============================] - 5s 19ms/step - loss: 0.1162 - acc: 0.9622\n",
      "Epoch 41/100\n",
      "244/244 [==============================] - 5s 20ms/step - loss: 0.1113 - acc: 0.9637\n",
      "Epoch 42/100\n",
      "244/244 [==============================] - 5s 20ms/step - loss: 0.1077 - acc: 0.9676\n",
      "Epoch 43/100\n",
      "244/244 [==============================] - 5s 20ms/step - loss: 0.1036 - acc: 0.9682\n",
      "Epoch 44/100\n",
      "244/244 [==============================] - 5s 20ms/step - loss: 0.1004 - acc: 0.9692\n",
      "Epoch 45/100\n",
      "244/244 [==============================] - 5s 20ms/step - loss: 0.0966 - acc: 0.9709\n",
      "Epoch 46/100\n",
      "244/244 [==============================] - 5s 20ms/step - loss: 0.0926 - acc: 0.9718\n",
      "Epoch 47/100\n",
      "244/244 [==============================] - 5s 21ms/step - loss: 0.0905 - acc: 0.9723\n",
      "Epoch 48/100\n",
      "244/244 [==============================] - 5s 20ms/step - loss: 0.0851 - acc: 0.9749\n",
      "Epoch 49/100\n",
      "244/244 [==============================] - 5s 22ms/step - loss: 0.0829 - acc: 0.9758\n",
      "Epoch 50/100\n",
      "244/244 [==============================] - 6s 26ms/step - loss: 0.0785 - acc: 0.9781\n",
      "Epoch 51/100\n",
      "244/244 [==============================] - 5s 22ms/step - loss: 0.0762 - acc: 0.9781\n",
      "Epoch 52/100\n",
      "244/244 [==============================] - 5s 20ms/step - loss: 0.0730 - acc: 0.9809\n",
      "Epoch 53/100\n",
      "244/244 [==============================] - 5s 20ms/step - loss: 0.0710 - acc: 0.9815\n",
      "Epoch 54/100\n",
      "244/244 [==============================] - 5s 20ms/step - loss: 0.0679 - acc: 0.9833\n",
      "Epoch 55/100\n",
      "244/244 [==============================] - 5s 21ms/step - loss: 0.0653 - acc: 0.9826\n",
      "Epoch 56/100\n",
      "244/244 [==============================] - 6s 24ms/step - loss: 0.0629 - acc: 0.9855\n",
      "Epoch 57/100\n",
      "244/244 [==============================] - 5s 21ms/step - loss: 0.0607 - acc: 0.9868\n",
      "Epoch 58/100\n",
      "244/244 [==============================] - 5s 20ms/step - loss: 0.0574 - acc: 0.9874\n",
      "Epoch 59/100\n",
      "244/244 [==============================] - 5s 19ms/step - loss: 0.0551 - acc: 0.9876\n",
      "Epoch 60/100\n",
      "244/244 [==============================] - 6s 24ms/step - loss: 0.0530 - acc: 0.9881\n",
      "Epoch 61/100\n",
      "244/244 [==============================] - 6s 26ms/step - loss: 0.0509 - acc: 0.9900\n",
      "Epoch 62/100\n",
      "244/244 [==============================] - 6s 25ms/step - loss: 0.0485 - acc: 0.9899\n",
      "Epoch 63/100\n",
      "244/244 [==============================] - 6s 26ms/step - loss: 0.0467 - acc: 0.9914\n",
      "Epoch 64/100\n",
      "244/244 [==============================] - 5s 22ms/step - loss: 0.0446 - acc: 0.9924\n",
      "Epoch 65/100\n",
      "244/244 [==============================] - 6s 25ms/step - loss: 0.0421 - acc: 0.9920\n",
      "Epoch 66/100\n",
      "244/244 [==============================] - 6s 24ms/step - loss: 0.0411 - acc: 0.9922\n",
      "Epoch 67/100\n",
      "244/244 [==============================] - 6s 25ms/step - loss: 0.0387 - acc: 0.9938\n",
      "Epoch 68/100\n",
      "244/244 [==============================] - 6s 24ms/step - loss: 0.0371 - acc: 0.9945\n",
      "Epoch 69/100\n",
      "244/244 [==============================] - 5s 21ms/step - loss: 0.0353 - acc: 0.9947\n",
      "Epoch 70/100\n",
      "244/244 [==============================] - 5s 20ms/step - loss: 0.0340 - acc: 0.9953\n",
      "Epoch 71/100\n",
      "244/244 [==============================] - 5s 21ms/step - loss: 0.0324 - acc: 0.9954\n",
      "Epoch 72/100\n",
      "244/244 [==============================] - 6s 25ms/step - loss: 0.0305 - acc: 0.9967\n",
      "Epoch 73/100\n",
      "244/244 [==============================] - 6s 26ms/step - loss: 0.0294 - acc: 0.9967\n",
      "Epoch 74/100\n",
      "244/244 [==============================] - 6s 26ms/step - loss: 0.0284 - acc: 0.9968\n",
      "Epoch 75/100\n",
      "244/244 [==============================] - 6s 26ms/step - loss: 0.0264 - acc: 0.9978\n",
      "Epoch 76/100\n",
      "244/244 [==============================] - 5s 21ms/step - loss: 0.0255 - acc: 0.9974\n",
      "Epoch 77/100\n",
      "244/244 [==============================] - 5s 20ms/step - loss: 0.0242 - acc: 0.9985\n",
      "Epoch 78/100\n",
      "244/244 [==============================] - 5s 22ms/step - loss: 0.0232 - acc: 0.9981\n",
      "Epoch 79/100\n",
      "244/244 [==============================] - 5s 20ms/step - loss: 0.0217 - acc: 0.9988\n",
      "Epoch 80/100\n",
      "244/244 [==============================] - 5s 21ms/step - loss: 0.0208 - acc: 0.9990\n",
      "Epoch 81/100\n",
      "244/244 [==============================] - 5s 20ms/step - loss: 0.0196 - acc: 0.9991\n",
      "Epoch 82/100\n",
      "244/244 [==============================] - 5s 20ms/step - loss: 0.0187 - acc: 0.9992\n",
      "Epoch 83/100\n",
      "244/244 [==============================] - 5s 21ms/step - loss: 0.0178 - acc: 0.9996\n",
      "Epoch 84/100\n"
     ]
    },
    {
     "name": "stdout",
     "output_type": "stream",
     "text": [
      "244/244 [==============================] - 5s 18ms/step - loss: 0.0168 - acc: 0.9994\n",
      "Epoch 85/100\n",
      "244/244 [==============================] - 5s 19ms/step - loss: 0.0162 - acc: 0.9995\n",
      "Epoch 86/100\n",
      "244/244 [==============================] - 5s 19ms/step - loss: 0.0155 - acc: 0.9994\n",
      "Epoch 87/100\n",
      "244/244 [==============================] - 5s 19ms/step - loss: 0.0146 - acc: 0.9994\n",
      "Epoch 88/100\n",
      "244/244 [==============================] - 5s 20ms/step - loss: 0.0139 - acc: 0.9997\n",
      "Epoch 89/100\n",
      "244/244 [==============================] - 5s 19ms/step - loss: 0.0129 - acc: 0.9997\n",
      "Epoch 90/100\n",
      "244/244 [==============================] - 5s 19ms/step - loss: 0.0122 - acc: 0.9999\n",
      "Epoch 91/100\n",
      "244/244 [==============================] - 4s 18ms/step - loss: 0.0118 - acc: 0.9997\n",
      "Epoch 92/100\n",
      "244/244 [==============================] - 5s 20ms/step - loss: 0.0113 - acc: 0.9997\n",
      "Epoch 93/100\n",
      "244/244 [==============================] - 5s 19ms/step - loss: 0.0104 - acc: 0.9999\n",
      "Epoch 94/100\n",
      "244/244 [==============================] - 5s 19ms/step - loss: 0.0101 - acc: 0.9997\n",
      "Epoch 95/100\n",
      "244/244 [==============================] - 5s 19ms/step - loss: 0.0094 - acc: 0.9999\n",
      "Epoch 96/100\n",
      "244/244 [==============================] - 4s 18ms/step - loss: 0.0089 - acc: 0.9999\n",
      "Epoch 97/100\n",
      "244/244 [==============================] - 5s 19ms/step - loss: 0.0088 - acc: 0.9999\n",
      "Epoch 98/100\n",
      "244/244 [==============================] - 4s 18ms/step - loss: 0.0080 - acc: 1.0000\n",
      "Epoch 99/100\n",
      "244/244 [==============================] - 5s 19ms/step - loss: 0.0077 - acc: 1.0000\n",
      "Epoch 100/100\n",
      "244/244 [==============================] - 5s 19ms/step - loss: 0.0072 - acc: 0.9999\n",
      "########################################\n",
      "loss: 0.007222240325063467, acc: 0.9998717308044434\n",
      "########################################\n"
     ]
    }
   ],
   "source": [
    "hist = model.fit(ds, epochs=100)\n",
    "\n",
    "print('#' * 40)\n",
    "print('loss: {}, acc: {}'.format(hist.history['loss'][-1],\n",
    "                                 hist.history['acc'][-1]))\n",
    "print('#' * 40)"
   ]
  },
  {
   "cell_type": "markdown",
   "metadata": {},
   "source": [
    "### Prediction and evaluation"
   ]
  },
  {
   "cell_type": "code",
   "execution_count": 11,
   "metadata": {},
   "outputs": [],
   "source": [
    "dna_ds = DNA_TEST.to_tf_dataset().batch(32).map(tf.sparse.to_dense)\n",
    "label_ds = ReduceDims(LABELS_TEST)"
   ]
  },
  {
   "cell_type": "code",
   "execution_count": 12,
   "metadata": {},
   "outputs": [],
   "source": [
    "\n",
    "# convert the prediction to a cover object\n",
    "pred = model.predict(dna_ds)\n"
   ]
  },
  {
   "cell_type": "code",
   "execution_count": 20,
   "metadata": {},
   "outputs": [
    {
     "name": "stdout",
     "output_type": "stream",
     "text": [
      "AUC: 0.9877\n"
     ]
    }
   ],
   "source": [
    "print(\"AUC:\", roc_auc_score(label_ds[:], pred))"
   ]
  },
  {
   "cell_type": "markdown",
   "metadata": {},
   "source": [
    "\n",
    "### Additional utilities"
   ]
  },
  {
   "cell_type": "markdown",
   "metadata": {},
   "source": [
    "While janggu.data offers some Wrapper classes (e.g. ReduceDim) that can be used to reshape the original dataset or perform data augmentation during training, some of the functionality can be easily done using the tensorflow.data pipeline directly, including ReduceDims, Squeeze, etc.\n",
    "\n",
    "However, some specialized methods that can be used for data augmentation are provided by janggu.data.tf_dataset_utils. These include:\n",
    "\n",
    "`nan_to_zero`: This function can be used if the genomic datasource contains NaNs which one wants to convert to zeros. This can happen in bigwig-file for example.\n",
    "\n",
    "`random_orientation`: This function randomly flips the strand orientation. It can be used, for example, if a peak signal (e.g. ChIP-seq binding signals are loaded into a Cover object) is used as input, since the peak shapes are often interpreted witout strand specific orientation.\n",
    "\n",
    "`random_shift`: This function allows to randomly shift the signal tracks by a given shift size up or downstream. It can be used for data-augmentation for the DNA sequence, but also e.g. for high-resolution Cover tracks."
   ]
  }
 ],
 "metadata": {
  "kernelspec": {
   "display_name": "Python 3",
   "language": "python",
   "name": "python3"
  },
  "language_info": {
   "codemirror_mode": {
    "name": "ipython",
    "version": 3
   },
   "file_extension": ".py",
   "mimetype": "text/x-python",
   "name": "python",
   "nbconvert_exporter": "python",
   "pygments_lexer": "ipython3",
   "version": "3.7.7"
  }
 },
 "nbformat": 4,
 "nbformat_minor": 2
}
